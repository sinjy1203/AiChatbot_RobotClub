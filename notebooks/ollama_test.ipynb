{
 "cells": [
  {
   "cell_type": "code",
   "execution_count": 4,
   "metadata": {},
   "outputs": [
    {
     "name": "stdout",
     "output_type": "stream",
     "text": [
      "\n",
      "The sky appears blue because of a phenomenon called Rayleigh scattering, which occurs when sunlight travels through the Earth's atmosphere. The atmosphere contains tiny molecules of gases such as nitrogen and oxygen, which scatter the light in all directions.\n",
      "\n",
      "The shortest wavelengths of light, such as violet and blue, are scattered more than other colors because they have a shorter wave length. This means that these colors are dispersed in all directions, giving the sky its blue appearance. The longer wavelengths of light, such as red and orange, pass through the atmosphere with less scattering and are therefore visible from a greater distance, giving the sun a reddish hue during sunrise and sunset.\n",
      "\n",
      "Additionally, the Earth's atmosphere acts like a prism, refracting the light and bending it in different directions, which also contributes to the blue color of the sky. The angle of the sun relative to the observer also plays a role in determining the exact shade of blue that is visible in the sky.\n",
      "\n",
      "So, to summarize, the sky appears blue because of the way light interacts with the Earth's atmosphere, including Rayleigh scattering and refraction.\n"
     ]
    }
   ],
   "source": [
    "import ollama\n",
    "response = ollama.chat(model='llama2', messages=[\n",
    "  {\n",
    "    'role': 'user',\n",
    "    'content': 'Why is the sky blue?',\n",
    "  },\n",
    "])\n",
    "print(response['message']['content'])"
   ]
  },
  {
   "cell_type": "code",
   "execution_count": 2,
   "metadata": {},
   "outputs": [
    {
     "name": "stdout",
     "output_type": "stream",
     "text": [
      "\n",
      "\n"
     ]
    }
   ],
   "source": [
    "import ollama\n",
    "response = ollama.chat(model='EEVE-Korean-10.8B', messages=[\n",
    "  {\n",
    "    'role': 'user',\n",
    "    'content': '딥러닝이 뭐야?',\n",
    "  },\n",
    "])\n",
    "print(response['message']['content'])"
   ]
  }
 ],
 "metadata": {
  "kernelspec": {
   "display_name": "club-chatbot-env",
   "language": "python",
   "name": "python3"
  },
  "language_info": {
   "codemirror_mode": {
    "name": "ipython",
    "version": 3
   },
   "file_extension": ".py",
   "mimetype": "text/x-python",
   "name": "python",
   "nbconvert_exporter": "python",
   "pygments_lexer": "ipython3",
   "version": "3.10.14"
  }
 },
 "nbformat": 4,
 "nbformat_minor": 2
}
